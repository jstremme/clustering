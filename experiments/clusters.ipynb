{
 "cells": [
  {
   "cell_type": "markdown",
   "metadata": {},
   "source": [
    "## <center> K Means++, Agglomerative Hierarchical Clustering, and PCA Cluster Projection </center>\n",
    "**<center> Joel Stremmel </center>**\n",
    "<center> 06-18-2019 </center>"
   ]
  },
  {
   "cell_type": "markdown",
   "metadata": {},
   "source": [
    "### Imports"
   ]
  },
  {
   "cell_type": "code",
   "execution_count": 1,
   "metadata": {},
   "outputs": [],
   "source": [
    "import pandas as pd\n",
    "import numpy as np\n",
    "import matplotlib.pyplot as plt\n",
    "import scipy.cluster.hierarchy as shc\n",
    "from sklearn import datasets\n",
    "from sklearn.preprocessing import StandardScaler\n",
    "from sklearn.decomposition import PCA\n",
    "from sklearn.model_selection import train_test_split\n",
    "from sklearn.linear_model import LogisticRegressionCV\n",
    "from sklearn.ensemble import RandomForestClassifier\n",
    "from sklearn.cluster import KMeans, AgglomerativeClustering\n",
    "from collections import Counter\n",
    "from mpl_toolkits.mplot3d import Axes3D\n",
    "from pylab import figure"
   ]
  },
  {
   "cell_type": "markdown",
   "metadata": {},
   "source": [
    "### Set Global Seed"
   ]
  },
  {
   "cell_type": "code",
   "execution_count": 2,
   "metadata": {},
   "outputs": [],
   "source": [
    "SEED = 8888"
   ]
  },
  {
   "cell_type": "markdown",
   "metadata": {},
   "source": [
    "### Live Dangerously... Or Not"
   ]
  },
  {
   "cell_type": "code",
   "execution_count": 3,
   "metadata": {},
   "outputs": [],
   "source": [
    "import warnings\n",
    "warnings.filterwarnings('ignore')"
   ]
  },
  {
   "cell_type": "markdown",
   "metadata": {},
   "source": [
    "### Helper Functions"
   ]
  },
  {
   "cell_type": "code",
   "execution_count": 4,
   "metadata": {},
   "outputs": [],
   "source": [
    "def to_df(X, features):\n",
    "    '''\n",
    "    Turn a 2D numpy array of records\n",
    "    and 1D array of targets into a dataframe.\n",
    "    '''\n",
    "\n",
    "    df = pd.DataFrame(data=X[0:,0:],\n",
    "                      index=[i for i in range(0, X.shape[0])],\n",
    "                      columns=features)\n",
    "\n",
    "    return df"
   ]
  },
  {
   "cell_type": "code",
   "execution_count": 5,
   "metadata": {},
   "outputs": [],
   "source": [
    "def to_df_with_class(X, y, features):\n",
    "    '''\n",
    "    High class funtion to turn a 2D numpy array of records\n",
    "    and 1D array of targets into a dataframe with a class column.\n",
    "    '''\n",
    "\n",
    "    df = to_df(X, features)\n",
    "    df['class'] = y\n",
    "\n",
    "    return df"
   ]
  },
  {
   "cell_type": "code",
   "execution_count": 6,
   "metadata": {},
   "outputs": [],
   "source": [
    "def rescale_continuous(df, continuous_cols, scaler):\n",
    "    '''\n",
    "    Rescales the continuous columns in a dataframe.\n",
    "    '''\n",
    "    \n",
    "    rescaled_continuous_cols = to_df(scaler.inverse_transform(df[continuous_cols].values), continuous_cols)\n",
    "    for f in continuous_cols:\n",
    "        df[f] = rescaled_continuous_cols[f].values\n",
    "        \n",
    "    return df"
   ]
  },
  {
   "cell_type": "markdown",
   "metadata": {},
   "source": [
    "### Feature Reduction Functions"
   ]
  },
  {
   "cell_type": "code",
   "execution_count": 7,
   "metadata": {},
   "outputs": [],
   "source": [
    "def reduce_features(features, importances, gini_importance_threshold):\n",
    "    '''\n",
    "    Selects features greater than the specified gini importance threshold.\n",
    "    '''\n",
    "    \n",
    "    important_features = sorted(zip(features, clf.feature_importances_), key=lambda x: x[1], reverse=True)\n",
    "    reduced_features_dict = {k: v for k, v in dict(important_features).items() if v > gini_importance_threshold}\n",
    "    reduced_features = [f for f in features if f in reduced_features_dict]\n",
    "    \n",
    "    return reduced_features"
   ]
  },
  {
   "cell_type": "markdown",
   "metadata": {},
   "source": [
    "### PCA Plot Functions"
   ]
  },
  {
   "cell_type": "code",
   "execution_count": 8,
   "metadata": {},
   "outputs": [],
   "source": [
    "def plot_pca(X):\n",
    "    '''\n",
    "    Plots variance explained per number of principle components.\n",
    "    '''\n",
    "    \n",
    "    pca_full = PCA(n_components=min(X.shape[0], X.shape[1]))\n",
    "    pca_full.fit(X)\n",
    "\n",
    "    plt.clf()\n",
    "    plt.plot(np.cumsum(pca_full.explained_variance_ratio_))\n",
    "    plt.xlabel('Number of Components')\n",
    "    plt.ylabel('Cumulative Explained Variance')\n",
    "    plt.title('Variance Explained by Principal Components')\n",
    "    plt.show()"
   ]
  },
  {
   "cell_type": "markdown",
   "metadata": {},
   "source": [
    "### Cluster Plot Functions"
   ]
  },
  {
   "cell_type": "code",
   "execution_count": 9,
   "metadata": {},
   "outputs": [],
   "source": [
    "def plot_kmeans(X, upper=20):\n",
    "    '''\n",
    "    Plots value of K Means objective function per number of clusters.\n",
    "    '''\n",
    "    \n",
    "    distorsions = []\n",
    "    for k in range(1, upper):\n",
    "        kmeans = KMeans(n_clusters=k, init='k-means++', random_state=SEED)\n",
    "        kmeans.fit(X)\n",
    "        distorsions.append(kmeans.inertia_)\n",
    "\n",
    "    plt.plot(range(1, upper), distorsions)\n",
    "    plt.title('K Means++ Elbow Curve')\n",
    "    plt.xlabel('Number of Clusters')\n",
    "    plt.ylabel('Value of Objective Function')\n",
    "    plt.show()"
   ]
  },
  {
   "cell_type": "code",
   "execution_count": 10,
   "metadata": {},
   "outputs": [],
   "source": [
    "def scatter_points(X, ax, colors, labels, dependent_vars, mark_dependent_vars):\n",
    "    '''\n",
    "    Logs datapoint positions and cluster assignments in 3D space.\n",
    "    '''\n",
    "\n",
    "    f = open(\"coordinate_log_3d.txt\", \"w\")\n",
    "\n",
    "    for i in range(len(X)):\n",
    "        marker = None\n",
    "        if mark_dependent_vars:\n",
    "            if dependent_vars[i] == 1:\n",
    "                marker = '+'\n",
    "            elif dependent_vars[i] == 0:\n",
    "                marker = '_'\n",
    "            else:\n",
    "                marker = None\n",
    "\n",
    "        ax.scatter(X[i][0], X[i][1], X[i][2], c=colors[labels[i]], marker=marker, s=80)\n",
    "\n",
    "        f.write(\"coordinate: {}, label: {}, color: {}, marker: {}\"\\\n",
    "         .format(X[i], labels[i], colors[labels[i]], marker)+\"\\n\")\n",
    "\n",
    "    f.close()"
   ]
  },
  {
   "cell_type": "code",
   "execution_count": 11,
   "metadata": {},
   "outputs": [],
   "source": [
    "def plot_clusters(X, num_clusters, dependent_vars, mark_dependent_vars):\n",
    "    '''\n",
    "    Plots datapoints and cluster assignments in 3D space.\n",
    "    '''\n",
    "\n",
    "    kmeans = KMeans(n_clusters=num_clusters, init='k-means++', random_state=SEED)\n",
    "    kmeans.fit(X)\n",
    "\n",
    "    centroids = kmeans.cluster_centers_\n",
    "    labels = kmeans.labels_\n",
    "\n",
    "    print('Centroids: \\n')\n",
    "    print(centroids)\n",
    "    print()\n",
    "\n",
    "    color_options = ['g', 'r', 'b', 'y', 'c', 'm', 'b', 'w']\n",
    "    colors = color_options[0:num_clusters]\n",
    "\n",
    "    c = Counter(labels)\n",
    "    fig = figure()\n",
    "    ax = fig.gca(projection='3d')\n",
    "\n",
    "    scatter_points(X, ax, colors, labels, dependent_vars, mark_dependent_vars)\n",
    "\n",
    "    for cluster in range(0, num_clusters):\n",
    "        print('Cluster {} contains {} samples'.format(cluster, c[cluster]))\n",
    "        \n",
    "    print()\n",
    "    ax.scatter(centroids[:, 0], centroids[:, 1], centroids[:, 2],\\\n",
    "               marker='x', s=200, linewidths=5, zorder=100, c=colors)\n",
    "\n",
    "    plt.title('Projected K Means++ Clusters', fontsize=20)\n",
    "    plt.show()\n",
    "    \n",
    "    return kmeans"
   ]
  },
  {
   "cell_type": "markdown",
   "metadata": {},
   "source": [
    "### Functions to Build Cluster Tables"
   ]
  },
  {
   "cell_type": "code",
   "execution_count": 12,
   "metadata": {},
   "outputs": [],
   "source": [
    "def format_mean_std(mean, std):\n",
    "    '''\n",
    "    Formats the mean and standard deviation of a feature to add to the cluster table.\n",
    "    '''\n",
    "    \n",
    "    return str(np.round(mean, 3)) + ' (+- ' + str(np.round(std, 3)) + ')'"
   ]
  },
  {
   "cell_type": "code",
   "execution_count": 13,
   "metadata": {},
   "outputs": [],
   "source": [
    "def format_sum_count(sum_, count):\n",
    "    '''\n",
    "    Formats the sum and count of a feature as the total and percentage to add to the cluster table.\n",
    "    '''\n",
    "    \n",
    "    return str(sum_) + ' (' + str(np.round(100 * sum_ / count, 3)) + '%)'"
   ]
  },
  {
   "cell_type": "code",
   "execution_count": 14,
   "metadata": {},
   "outputs": [],
   "source": [
    "def build_cluster_tables(dfs, features, continuous_features, binary_features):\n",
    "    '''\n",
    "    For each dataframe of clusters, populates the mean and standard deviation within each cluster\n",
    "    for continuous features and the count and percentage for binary features.\n",
    "    '''\n",
    "    \n",
    "    print('For continuous features, the within cluster mean +- the standard deviation is displayed...')\n",
    "    print('For binary features, the within cluster count and percentage of the total is displayed... ')\n",
    "    \n",
    "    features = features + ['size']\n",
    "    \n",
    "    # Call description lookup here\n",
    "    result_df = pd.DataFrame(data=features,\n",
    "                             index=range(0, len(features)),\n",
    "                             columns=['feature'])\n",
    "\n",
    "    for n, df in enumerate(dfs):\n",
    "        \n",
    "        mean_df = df.mean() \n",
    "        std_df = df.std()\n",
    "        count_df = df.count()\n",
    "        sum_df = df.sum()\n",
    "\n",
    "        entries = []\n",
    "        for i, feature in enumerate(features):\n",
    "            \n",
    "            if feature in continuous_features:\n",
    "                entries.append(format_mean_std(mean_df[i], std_df[i]))\n",
    "            elif feature in binary_features:\n",
    "                entries.append(format_sum_count(sum_df[i], count_df[i]))\n",
    "            elif feature == 'size':\n",
    "                entries.append(df.shape[0])\n",
    "            else:\n",
    "                raise ValueError('Encountered Unknown Feature: {}'.format(feature))\n",
    "        result_df['cluster_' + str(n)] = entries\n",
    "        \n",
    "    return result_df"
   ]
  },
  {
   "cell_type": "markdown",
   "metadata": {},
   "source": [
    "### Load Data"
   ]
  },
  {
   "cell_type": "code",
   "execution_count": 15,
   "metadata": {},
   "outputs": [],
   "source": [
    "df = datasets.load_breast_cancer()\n",
    "X = df.data\n",
    "y = df.target\n",
    "features = df.feature_names"
   ]
  },
  {
   "cell_type": "markdown",
   "metadata": {},
   "source": [
    "### Split Data"
   ]
  },
  {
   "cell_type": "code",
   "execution_count": 16,
   "metadata": {},
   "outputs": [],
   "source": [
    "X_train, X_val, y_train, y_val = train_test_split(X, y, test_size=.2, random_state=SEED)"
   ]
  },
  {
   "cell_type": "markdown",
   "metadata": {},
   "source": [
    "### Turn Train and Validation Records into Dataframes for Later"
   ]
  },
  {
   "cell_type": "code",
   "execution_count": 17,
   "metadata": {},
   "outputs": [],
   "source": [
    "train_df = to_df_with_class(X_train, y_train, features)\n",
    "val_df = to_df_with_class(X_val, y_val, features)"
   ]
  },
  {
   "cell_type": "markdown",
   "metadata": {},
   "source": [
    "### Fit a Supervised Model"
   ]
  },
  {
   "cell_type": "code",
   "execution_count": 18,
   "metadata": {},
   "outputs": [
    {
     "data": {
      "text/plain": [
       "RandomForestClassifier(bootstrap=True, class_weight='balanced',\n",
       "                       criterion='gini', max_depth=3, max_features='sqrt',\n",
       "                       max_leaf_nodes=None, min_impurity_decrease=0.0,\n",
       "                       min_impurity_split=None, min_samples_leaf=3,\n",
       "                       min_samples_split=2, min_weight_fraction_leaf=0.0,\n",
       "                       n_estimators=100, n_jobs=-2, oob_score=False,\n",
       "                       random_state=8888, verbose=0, warm_start=False)"
      ]
     },
     "execution_count": 18,
     "metadata": {},
     "output_type": "execute_result"
    }
   ],
   "source": [
    "clf = RandomForestClassifier(n_estimators=100, max_depth=3, min_samples_leaf=3,\n",
    "                             max_features='sqrt', class_weight='balanced', n_jobs=-2, random_state=SEED)\n",
    "clf.fit(X_train, y_train)"
   ]
  },
  {
   "cell_type": "markdown",
   "metadata": {},
   "source": [
    "### Select Important Features"
   ]
  },
  {
   "cell_type": "code",
   "execution_count": 19,
   "metadata": {},
   "outputs": [],
   "source": [
    "reduced_features = reduce_features(features, clf.feature_importances_, gini_importance_threshold=0.01)"
   ]
  },
  {
   "cell_type": "code",
   "execution_count": 20,
   "metadata": {},
   "outputs": [
    {
     "data": {
      "text/plain": [
       "['mean radius',\n",
       " 'mean perimeter',\n",
       " 'mean area',\n",
       " 'mean concavity',\n",
       " 'mean concave points',\n",
       " 'radius error',\n",
       " 'area error',\n",
       " 'worst radius',\n",
       " 'worst perimeter',\n",
       " 'worst area',\n",
       " 'worst compactness',\n",
       " 'worst concavity',\n",
       " 'worst concave points']"
      ]
     },
     "execution_count": 20,
     "metadata": {},
     "output_type": "execute_result"
    }
   ],
   "source": [
    "reduced_features"
   ]
  },
  {
   "cell_type": "markdown",
   "metadata": {},
   "source": [
    "### Separate Binary and Continuous Columns; Scale Continuous Columns\n",
    "Leaving this code here for reference, although this example does not include binary columns"
   ]
  },
  {
   "cell_type": "code",
   "execution_count": 21,
   "metadata": {},
   "outputs": [],
   "source": [
    "continuous_cols = [col for col in reduced_features if col in features]\n",
    "binary_cols = [col for col in reduced_features if col not in continuous_cols]\n",
    "reduced_features = continuous_cols + binary_cols"
   ]
  },
  {
   "cell_type": "code",
   "execution_count": 22,
   "metadata": {},
   "outputs": [],
   "source": [
    "scaler = StandardScaler()\n",
    "X_train_cont = scaler.fit_transform(train_df[reduced_features].values)\n",
    "X_val_cont = scaler.transform(val_df[reduced_features].values)"
   ]
  },
  {
   "cell_type": "code",
   "execution_count": 23,
   "metadata": {},
   "outputs": [],
   "source": [
    "X_train_std = X_train_cont\n",
    "X_val_std = X_val_cont"
   ]
  },
  {
   "cell_type": "markdown",
   "metadata": {},
   "source": [
    "# K Means Clustering"
   ]
  },
  {
   "cell_type": "markdown",
   "metadata": {},
   "source": [
    "### Plot Objective Value for Various Numbers of Clusters"
   ]
  },
  {
   "cell_type": "code",
   "execution_count": 24,
   "metadata": {},
   "outputs": [
    {
     "data": {
      "image/png": "[encoded data removed]",
      "text/plain": [
       "<Figure size 432x288 with 1 Axes>"
      ]
     },
     "metadata": {
      "needs_background": "light"
     },
     "output_type": "display_data"
    }
   ],
   "source": [
    "plot_kmeans(X_train_std)"
   ]
  },
  {
   "cell_type": "markdown",
   "metadata": {},
   "source": [
    "### Fit Model"
   ]
  },
  {
   "cell_type": "code",
   "execution_count": 25,
   "metadata": {},
   "outputs": [],
   "source": [
    "NUM_CLUSTERS = 4"
   ]
  },
  {
   "cell_type": "code",
   "execution_count": 26,
   "metadata": {},
   "outputs": [
    {
     "data": {
      "text/plain": [
       "KMeans(algorithm='auto', copy_x=True, init='k-means++', max_iter=300,\n",
       "       n_clusters=4, n_init=10, n_jobs=None, precompute_distances='auto',\n",
       "       random_state=8888, tol=0.0001, verbose=0)"
      ]
     },
     "execution_count": 26,
     "metadata": {},
     "output_type": "execute_result"
    }
   ],
   "source": [
    "kmeans_model = KMeans(n_clusters=NUM_CLUSTERS, init='k-means++', random_state=SEED)\n",
    "kmeans_model.fit(X_train_std)"
   ]
  },
  {
   "cell_type": "markdown",
   "metadata": {},
   "source": [
    "### Create Table of Clusters"
   ]
  },
  {
   "cell_type": "code",
   "execution_count": 27,
   "metadata": {},
   "outputs": [],
   "source": [
    "kmeans_df = train_df[reduced_features]\n",
    "kmeans_df['class'] = y_train\n",
    "kmeans_df['assignment'] = kmeans_model.labels_\n",
    "kmeans_df = rescale_continuous(kmeans_df, continuous_cols, scaler)"
   ]
  },
  {
   "cell_type": "code",
   "execution_count": 28,
   "metadata": {},
   "outputs": [],
   "source": [
    "kmeans_dfs = [kmeans_df[kmeans_df['assignment'] == c].drop('assignment', 1) for c in range(0, NUM_CLUSTERS)]"
   ]
  },
  {
   "cell_type": "code",
   "execution_count": 29,
   "metadata": {},
   "outputs": [],
   "source": [
    "bin_cols = ['class'] + binary_cols\n",
    "cols = continuous_cols + bin_cols"
   ]
  },
  {
   "cell_type": "code",
   "execution_count": 30,
   "metadata": {},
   "outputs": [
    {
     "name": "stdout",
     "output_type": "stream",
     "text": [
      "For continuous features, the within cluster mean +- the standard deviation is displayed...\n",
      "For binary features, the within cluster count and percentage of the total is displayed... \n"
     ]
    },
    {
     "data": {
      "text/html": [
       "<div>\n",
       "<style scoped>\n",
       "    .dataframe tbody tr th:only-of-type {\n",
       "        vertical-align: middle;\n",
       "    }\n",
       "\n",
       "    .dataframe tbody tr th {\n",
       "        vertical-align: top;\n",
       "    }\n",
       "\n",
       "    .dataframe thead th {\n",
       "        text-align: right;\n",
       "    }\n",
       "</style>\n",
       "<table border=\"1\" class=\"dataframe\">\n",
       "  <thead>\n",
       "    <tr style=\"text-align: right;\">\n",
       "      <th></th>\n",
       "      <th>feature</th>\n",
       "      <th>cluster_0</th>\n",
       "      <th>cluster_1</th>\n",
       "      <th>cluster_2</th>\n",
       "      <th>cluster_3</th>\n",
       "    </tr>\n",
       "  </thead>\n",
       "  <tbody>\n",
       "    <tr>\n",
       "      <th>0</th>\n",
       "      <td>mean radius</td>\n",
       "      <td>65.506 (+- 6.134)</td>\n",
       "      <td>93.193 (+- 7.984)</td>\n",
       "      <td>55.488 (+- 5.495)</td>\n",
       "      <td>80.293 (+- 5.189)</td>\n",
       "    </tr>\n",
       "    <tr>\n",
       "      <th>1</th>\n",
       "      <td>mean perimeter</td>\n",
       "      <td>2418.276 (+- 271.721)</td>\n",
       "      <td>3764.239 (+- 378.567)</td>\n",
       "      <td>1918.815 (+- 247.609)</td>\n",
       "      <td>3102.078 (+- 227.794)</td>\n",
       "    </tr>\n",
       "    <tr>\n",
       "      <th>2</th>\n",
       "      <td>mean area</td>\n",
       "      <td>234905.572 (+- 54377.863)</td>\n",
       "      <td>557899.628 (+- 115897.139)</td>\n",
       "      <td>152323.36 (+- 39544.88)</td>\n",
       "      <td>389234.266 (+- 58731.575)</td>\n",
       "    </tr>\n",
       "    <tr>\n",
       "      <th>3</th>\n",
       "      <td>mean concavity</td>\n",
       "      <td>0.098 (+- 0.005)</td>\n",
       "      <td>0.11 (+- 0.007)</td>\n",
       "      <td>0.091 (+- 0.002)</td>\n",
       "      <td>0.101 (+- 0.004)</td>\n",
       "    </tr>\n",
       "    <tr>\n",
       "      <th>4</th>\n",
       "      <td>mean concave points</td>\n",
       "      <td>0.051 (+- 0.001)</td>\n",
       "      <td>0.054 (+- 0.001)</td>\n",
       "      <td>0.049 (+- 0.001)</td>\n",
       "      <td>0.052 (+- 0.001)</td>\n",
       "    </tr>\n",
       "    <tr>\n",
       "      <th>5</th>\n",
       "      <td>radius error</td>\n",
       "      <td>0.492 (+- 0.033)</td>\n",
       "      <td>0.692 (+- 0.107)</td>\n",
       "      <td>0.471 (+- 0.032)</td>\n",
       "      <td>0.577 (+- 0.054)</td>\n",
       "    </tr>\n",
       "    <tr>\n",
       "      <th>6</th>\n",
       "      <td>area error</td>\n",
       "      <td>1449.693 (+- 571.776)</td>\n",
       "      <td>7356.571 (+- 4256.609)</td>\n",
       "      <td>907.035 (+- 410.2)</td>\n",
       "      <td>3525.048 (+- 1096.593)</td>\n",
       "    </tr>\n",
       "    <tr>\n",
       "      <th>7</th>\n",
       "      <td>worst radius</td>\n",
       "      <td>99.174 (+- 10.342)</td>\n",
       "      <td>155.15 (+- 16.958)</td>\n",
       "      <td>79.394 (+- 8.392)</td>\n",
       "      <td>128.663 (+- 9.395)</td>\n",
       "    </tr>\n",
       "    <tr>\n",
       "      <th>8</th>\n",
       "      <td>worst perimeter</td>\n",
       "      <td>3973.999 (+- 471.929)</td>\n",
       "      <td>6802.222 (+- 725.436)</td>\n",
       "      <td>2953.498 (+- 387.18)</td>\n",
       "      <td>5319.419 (+- 430.762)</td>\n",
       "    </tr>\n",
       "    <tr>\n",
       "      <th>9</th>\n",
       "      <td>worst area</td>\n",
       "      <td>521574.22 (+- 126787.005)</td>\n",
       "      <td>1458420.122 (+- 392377.857)</td>\n",
       "      <td>303102.56 (+- 79043.32)</td>\n",
       "      <td>947878.788 (+- 165603.018)</td>\n",
       "    </tr>\n",
       "    <tr>\n",
       "      <th>10</th>\n",
       "      <td>worst compactness</td>\n",
       "      <td>0.311 (+- 0.028)</td>\n",
       "      <td>0.323 (+- 0.028)</td>\n",
       "      <td>0.278 (+- 0.012)</td>\n",
       "      <td>0.307 (+- 0.019)</td>\n",
       "    </tr>\n",
       "    <tr>\n",
       "      <th>11</th>\n",
       "      <td>worst concavity</td>\n",
       "      <td>0.361 (+- 0.044)</td>\n",
       "      <td>0.393 (+- 0.036)</td>\n",
       "      <td>0.298 (+- 0.019)</td>\n",
       "      <td>0.361 (+- 0.027)</td>\n",
       "    </tr>\n",
       "    <tr>\n",
       "      <th>12</th>\n",
       "      <td>worst concave points</td>\n",
       "      <td>0.124 (+- 0.003)</td>\n",
       "      <td>0.13 (+- 0.002)</td>\n",
       "      <td>0.118 (+- 0.002)</td>\n",
       "      <td>0.126 (+- 0.002)</td>\n",
       "    </tr>\n",
       "    <tr>\n",
       "      <th>13</th>\n",
       "      <td>class</td>\n",
       "      <td>38.0 (33.043%)</td>\n",
       "      <td>0.0 (0.0%)</td>\n",
       "      <td>246.0 (98.4%)</td>\n",
       "      <td>0.0 (0.0%)</td>\n",
       "    </tr>\n",
       "    <tr>\n",
       "      <th>14</th>\n",
       "      <td>size</td>\n",
       "      <td>115</td>\n",
       "      <td>18</td>\n",
       "      <td>250</td>\n",
       "      <td>72</td>\n",
       "    </tr>\n",
       "  </tbody>\n",
       "</table>\n",
       "</div>"
      ],
      "text/plain": [
       "                 feature                  cluster_0  \\\n",
       "0            mean radius          65.506 (+- 6.134)   \n",
       "1         mean perimeter      2418.276 (+- 271.721)   \n",
       "2              mean area  234905.572 (+- 54377.863)   \n",
       "3         mean concavity           0.098 (+- 0.005)   \n",
       "4    mean concave points           0.051 (+- 0.001)   \n",
       "5           radius error           0.492 (+- 0.033)   \n",
       "6             area error      1449.693 (+- 571.776)   \n",
       "7           worst radius         99.174 (+- 10.342)   \n",
       "8        worst perimeter      3973.999 (+- 471.929)   \n",
       "9             worst area  521574.22 (+- 126787.005)   \n",
       "10     worst compactness           0.311 (+- 0.028)   \n",
       "11       worst concavity           0.361 (+- 0.044)   \n",
       "12  worst concave points           0.124 (+- 0.003)   \n",
       "13                 class             38.0 (33.043%)   \n",
       "14                  size                        115   \n",
       "\n",
       "                      cluster_1                cluster_2  \\\n",
       "0             93.193 (+- 7.984)        55.488 (+- 5.495)   \n",
       "1         3764.239 (+- 378.567)    1918.815 (+- 247.609)   \n",
       "2    557899.628 (+- 115897.139)  152323.36 (+- 39544.88)   \n",
       "3               0.11 (+- 0.007)         0.091 (+- 0.002)   \n",
       "4              0.054 (+- 0.001)         0.049 (+- 0.001)   \n",
       "5              0.692 (+- 0.107)         0.471 (+- 0.032)   \n",
       "6        7356.571 (+- 4256.609)       907.035 (+- 410.2)   \n",
       "7            155.15 (+- 16.958)        79.394 (+- 8.392)   \n",
       "8         6802.222 (+- 725.436)     2953.498 (+- 387.18)   \n",
       "9   1458420.122 (+- 392377.857)  303102.56 (+- 79043.32)   \n",
       "10             0.323 (+- 0.028)         0.278 (+- 0.012)   \n",
       "11             0.393 (+- 0.036)         0.298 (+- 0.019)   \n",
       "12              0.13 (+- 0.002)         0.118 (+- 0.002)   \n",
       "13                   0.0 (0.0%)            246.0 (98.4%)   \n",
       "14                           18                      250   \n",
       "\n",
       "                     cluster_3  \n",
       "0            80.293 (+- 5.189)  \n",
       "1        3102.078 (+- 227.794)  \n",
       "2    389234.266 (+- 58731.575)  \n",
       "3             0.101 (+- 0.004)  \n",
       "4             0.052 (+- 0.001)  \n",
       "5             0.577 (+- 0.054)  \n",
       "6       3525.048 (+- 1096.593)  \n",
       "7           128.663 (+- 9.395)  \n",
       "8        5319.419 (+- 430.762)  \n",
       "9   947878.788 (+- 165603.018)  \n",
       "10            0.307 (+- 0.019)  \n",
       "11            0.361 (+- 0.027)  \n",
       "12            0.126 (+- 0.002)  \n",
       "13                  0.0 (0.0%)  \n",
       "14                          72  "
      ]
     },
     "execution_count": 30,
     "metadata": {},
     "output_type": "execute_result"
    }
   ],
   "source": [
    "build_cluster_tables(kmeans_dfs, cols, continuous_cols, bin_cols)"
   ]
  },
  {
   "cell_type": "markdown",
   "metadata": {},
   "source": [
    "# Hierarchical Agglomerative Clustering"
   ]
  },
  {
   "cell_type": "markdown",
   "metadata": {},
   "source": [
    "### Plot Dendrogram"
   ]
  },
  {
   "cell_type": "code",
   "execution_count": 31,
   "metadata": {},
   "outputs": [
    {
     "data": {
      "image/png": "[encoded data removed]",
      "text/plain": [
       "<Figure size 432x288 with 1 Axes>"
      ]
     },
     "metadata": {
      "needs_background": "light"
     },
     "output_type": "display_data"
    }
   ],
   "source": [
    "plt.title(\"Agglomerative Clustering Dendrogram\")  \n",
    "dend = shc.dendrogram(shc.linkage(X_train_std, method='ward'))  "
   ]
  },
  {
   "cell_type": "markdown",
   "metadata": {},
   "source": [
    "### Fit Model"
   ]
  },
  {
   "cell_type": "code",
   "execution_count": 32,
   "metadata": {},
   "outputs": [],
   "source": [
    "NUM_CLUSTERS = 4"
   ]
  },
  {
   "cell_type": "code",
   "execution_count": 33,
   "metadata": {},
   "outputs": [
    {
     "data": {
      "text/plain": [
       "AgglomerativeClustering(affinity='euclidean', compute_full_tree='auto',\n",
       "                        connectivity=None, distance_threshold=None,\n",
       "                        linkage='ward', memory=None, n_clusters=4,\n",
       "                        pooling_func='deprecated')"
      ]
     },
     "execution_count": 33,
     "metadata": {},
     "output_type": "execute_result"
    }
   ],
   "source": [
    "agg_model = AgglomerativeClustering(n_clusters=NUM_CLUSTERS, affinity='euclidean', linkage='ward')\n",
    "agg_model.fit(X_train_std)"
   ]
  },
  {
   "cell_type": "markdown",
   "metadata": {},
   "source": [
    "### Create Table of Clusters"
   ]
  },
  {
   "cell_type": "code",
   "execution_count": 34,
   "metadata": {},
   "outputs": [],
   "source": [
    "agg_df = train_df[reduced_features]\n",
    "agg_df['class'] = y_train\n",
    "agg_df['assignment'] = agg_model.labels_\n",
    "agg_df = rescale_continuous(agg_df, continuous_cols, scaler)"
   ]
  },
  {
   "cell_type": "code",
   "execution_count": 35,
   "metadata": {},
   "outputs": [],
   "source": [
    "agg_dfs = [agg_df[agg_df['assignment'] == c].drop('assignment', 1) for c in range(0, NUM_CLUSTERS)]"
   ]
  },
  {
   "cell_type": "code",
   "execution_count": 36,
   "metadata": {},
   "outputs": [],
   "source": [
    "bin_cols = ['class'] + binary_cols\n",
    "cols = continuous_cols + bin_cols"
   ]
  },
  {
   "cell_type": "code",
   "execution_count": 37,
   "metadata": {},
   "outputs": [
    {
     "name": "stdout",
     "output_type": "stream",
     "text": [
      "For continuous features, the within cluster mean +- the standard deviation is displayed...\n",
      "For binary features, the within cluster count and percentage of the total is displayed... \n"
     ]
    },
    {
     "data": {
      "text/html": [
       "<div>\n",
       "<style scoped>\n",
       "    .dataframe tbody tr th:only-of-type {\n",
       "        vertical-align: middle;\n",
       "    }\n",
       "\n",
       "    .dataframe tbody tr th {\n",
       "        vertical-align: top;\n",
       "    }\n",
       "\n",
       "    .dataframe thead th {\n",
       "        text-align: right;\n",
       "    }\n",
       "</style>\n",
       "<table border=\"1\" class=\"dataframe\">\n",
       "  <thead>\n",
       "    <tr style=\"text-align: right;\">\n",
       "      <th></th>\n",
       "      <th>feature</th>\n",
       "      <th>cluster_0</th>\n",
       "      <th>cluster_1</th>\n",
       "      <th>cluster_2</th>\n",
       "      <th>cluster_3</th>\n",
       "    </tr>\n",
       "  </thead>\n",
       "  <tbody>\n",
       "    <tr>\n",
       "      <th>0</th>\n",
       "      <td>mean radius</td>\n",
       "      <td>66.455 (+- 6.417)</td>\n",
       "      <td>55.503 (+- 5.478)</td>\n",
       "      <td>92.534 (+- 8.273)</td>\n",
       "      <td>81.308 (+- 4.898)</td>\n",
       "    </tr>\n",
       "    <tr>\n",
       "      <th>1</th>\n",
       "      <td>mean perimeter</td>\n",
       "      <td>2462.65 (+- 287.251)</td>\n",
       "      <td>1919.837 (+- 247.029)</td>\n",
       "      <td>3733.473 (+- 391.58)</td>\n",
       "      <td>3146.801 (+- 212.191)</td>\n",
       "    </tr>\n",
       "    <tr>\n",
       "      <th>2</th>\n",
       "      <td>mean area</td>\n",
       "      <td>243915.115 (+- 57906.332)</td>\n",
       "      <td>152407.045 (+- 39420.24)</td>\n",
       "      <td>548633.583 (+- 119654.706)</td>\n",
       "      <td>401432.557 (+- 54936.926)</td>\n",
       "    </tr>\n",
       "    <tr>\n",
       "      <th>3</th>\n",
       "      <td>mean concavity</td>\n",
       "      <td>0.099 (+- 0.005)</td>\n",
       "      <td>0.091 (+- 0.002)</td>\n",
       "      <td>0.11 (+- 0.007)</td>\n",
       "      <td>0.101 (+- 0.004)</td>\n",
       "    </tr>\n",
       "    <tr>\n",
       "      <th>4</th>\n",
       "      <td>mean concave points</td>\n",
       "      <td>0.051 (+- 0.001)</td>\n",
       "      <td>0.049 (+- 0.001)</td>\n",
       "      <td>0.054 (+- 0.001)</td>\n",
       "      <td>0.052 (+- 0.001)</td>\n",
       "    </tr>\n",
       "    <tr>\n",
       "      <th>5</th>\n",
       "      <td>radius error</td>\n",
       "      <td>0.495 (+- 0.034)</td>\n",
       "      <td>0.472 (+- 0.032)</td>\n",
       "      <td>0.69 (+- 0.104)</td>\n",
       "      <td>0.585 (+- 0.052)</td>\n",
       "    </tr>\n",
       "    <tr>\n",
       "      <th>6</th>\n",
       "      <td>area error</td>\n",
       "      <td>1529.482 (+- 604.457)</td>\n",
       "      <td>908.232 (+- 409.742)</td>\n",
       "      <td>7204.845 (+- 4189.214)</td>\n",
       "      <td>3737.88 (+- 1035.249)</td>\n",
       "    </tr>\n",
       "    <tr>\n",
       "      <th>7</th>\n",
       "      <td>worst radius</td>\n",
       "      <td>101.229 (+- 11.454)</td>\n",
       "      <td>79.444 (+- 8.388)</td>\n",
       "      <td>153.983 (+- 17.247)</td>\n",
       "      <td>130.2 (+- 9.302)</td>\n",
       "    </tr>\n",
       "    <tr>\n",
       "      <th>8</th>\n",
       "      <td>worst perimeter</td>\n",
       "      <td>4066.671 (+- 518.785)</td>\n",
       "      <td>2956.322 (+- 387.431)</td>\n",
       "      <td>6765.491 (+- 722.948)</td>\n",
       "      <td>5383.629 (+- 411.363)</td>\n",
       "    </tr>\n",
       "    <tr>\n",
       "      <th>9</th>\n",
       "      <td>worst area</td>\n",
       "      <td>548383.552 (+- 143704.156)</td>\n",
       "      <td>303567.82 (+- 79081.765)</td>\n",
       "      <td>1431399.036 (+- 399098.572)</td>\n",
       "      <td>976004.628 (+- 165058.843)</td>\n",
       "    </tr>\n",
       "    <tr>\n",
       "      <th>10</th>\n",
       "      <td>worst compactness</td>\n",
       "      <td>0.311 (+- 0.027)</td>\n",
       "      <td>0.278 (+- 0.012)</td>\n",
       "      <td>0.326 (+- 0.029)</td>\n",
       "      <td>0.305 (+- 0.018)</td>\n",
       "    </tr>\n",
       "    <tr>\n",
       "      <th>11</th>\n",
       "      <td>worst concavity</td>\n",
       "      <td>0.362 (+- 0.044)</td>\n",
       "      <td>0.299 (+- 0.02)</td>\n",
       "      <td>0.394 (+- 0.035)</td>\n",
       "      <td>0.358 (+- 0.023)</td>\n",
       "    </tr>\n",
       "    <tr>\n",
       "      <th>12</th>\n",
       "      <td>worst concave points</td>\n",
       "      <td>0.125 (+- 0.003)</td>\n",
       "      <td>0.118 (+- 0.002)</td>\n",
       "      <td>0.13 (+- 0.002)</td>\n",
       "      <td>0.126 (+- 0.002)</td>\n",
       "    </tr>\n",
       "    <tr>\n",
       "      <th>13</th>\n",
       "      <td>class</td>\n",
       "      <td>36.0 (29.032%)</td>\n",
       "      <td>248.0 (98.413%)</td>\n",
       "      <td>0.0 (0.0%)</td>\n",
       "      <td>0.0 (0.0%)</td>\n",
       "    </tr>\n",
       "    <tr>\n",
       "      <th>14</th>\n",
       "      <td>size</td>\n",
       "      <td>124</td>\n",
       "      <td>252</td>\n",
       "      <td>19</td>\n",
       "      <td>60</td>\n",
       "    </tr>\n",
       "  </tbody>\n",
       "</table>\n",
       "</div>"
      ],
      "text/plain": [
       "                 feature                   cluster_0  \\\n",
       "0            mean radius           66.455 (+- 6.417)   \n",
       "1         mean perimeter        2462.65 (+- 287.251)   \n",
       "2              mean area   243915.115 (+- 57906.332)   \n",
       "3         mean concavity            0.099 (+- 0.005)   \n",
       "4    mean concave points            0.051 (+- 0.001)   \n",
       "5           radius error            0.495 (+- 0.034)   \n",
       "6             area error       1529.482 (+- 604.457)   \n",
       "7           worst radius         101.229 (+- 11.454)   \n",
       "8        worst perimeter       4066.671 (+- 518.785)   \n",
       "9             worst area  548383.552 (+- 143704.156)   \n",
       "10     worst compactness            0.311 (+- 0.027)   \n",
       "11       worst concavity            0.362 (+- 0.044)   \n",
       "12  worst concave points            0.125 (+- 0.003)   \n",
       "13                 class              36.0 (29.032%)   \n",
       "14                  size                         124   \n",
       "\n",
       "                   cluster_1                    cluster_2  \\\n",
       "0          55.503 (+- 5.478)            92.534 (+- 8.273)   \n",
       "1      1919.837 (+- 247.029)         3733.473 (+- 391.58)   \n",
       "2   152407.045 (+- 39420.24)   548633.583 (+- 119654.706)   \n",
       "3           0.091 (+- 0.002)              0.11 (+- 0.007)   \n",
       "4           0.049 (+- 0.001)             0.054 (+- 0.001)   \n",
       "5           0.472 (+- 0.032)              0.69 (+- 0.104)   \n",
       "6       908.232 (+- 409.742)       7204.845 (+- 4189.214)   \n",
       "7          79.444 (+- 8.388)          153.983 (+- 17.247)   \n",
       "8      2956.322 (+- 387.431)        6765.491 (+- 722.948)   \n",
       "9   303567.82 (+- 79081.765)  1431399.036 (+- 399098.572)   \n",
       "10          0.278 (+- 0.012)             0.326 (+- 0.029)   \n",
       "11           0.299 (+- 0.02)             0.394 (+- 0.035)   \n",
       "12          0.118 (+- 0.002)              0.13 (+- 0.002)   \n",
       "13           248.0 (98.413%)                   0.0 (0.0%)   \n",
       "14                       252                           19   \n",
       "\n",
       "                     cluster_3  \n",
       "0            81.308 (+- 4.898)  \n",
       "1        3146.801 (+- 212.191)  \n",
       "2    401432.557 (+- 54936.926)  \n",
       "3             0.101 (+- 0.004)  \n",
       "4             0.052 (+- 0.001)  \n",
       "5             0.585 (+- 0.052)  \n",
       "6        3737.88 (+- 1035.249)  \n",
       "7             130.2 (+- 9.302)  \n",
       "8        5383.629 (+- 411.363)  \n",
       "9   976004.628 (+- 165058.843)  \n",
       "10            0.305 (+- 0.018)  \n",
       "11            0.358 (+- 0.023)  \n",
       "12            0.126 (+- 0.002)  \n",
       "13                  0.0 (0.0%)  \n",
       "14                          60  "
      ]
     },
     "execution_count": 37,
     "metadata": {},
     "output_type": "execute_result"
    }
   ],
   "source": [
    "build_cluster_tables(agg_dfs, cols, continuous_cols, bin_cols)"
   ]
  },
  {
   "cell_type": "markdown",
   "metadata": {},
   "source": [
    "# Use PCA to Visualize Clusters"
   ]
  },
  {
   "cell_type": "markdown",
   "metadata": {},
   "source": [
    "### Plot Variance Explained"
   ]
  },
  {
   "cell_type": "code",
   "execution_count": 38,
   "metadata": {
    "scrolled": true
   },
   "outputs": [
    {
     "data": {
      "image/png": "[encoded data removed]",
      "text/plain": [
       "<Figure size 432x288 with 1 Axes>"
      ]
     },
     "metadata": {
      "needs_background": "light"
     },
     "output_type": "display_data"
    }
   ],
   "source": [
    "plot_pca(X_train_std)"
   ]
  },
  {
   "cell_type": "markdown",
   "metadata": {},
   "source": [
    "### Run PCA"
   ]
  },
  {
   "cell_type": "code",
   "execution_count": 39,
   "metadata": {},
   "outputs": [],
   "source": [
    "NUM_COMPONENTS = 3"
   ]
  },
  {
   "cell_type": "code",
   "execution_count": 40,
   "metadata": {},
   "outputs": [],
   "source": [
    "pca = PCA(n_components=NUM_COMPONENTS)\n",
    "X_PCA = pca.fit_transform(X_train_std)"
   ]
  },
  {
   "cell_type": "markdown",
   "metadata": {},
   "source": [
    "### Plot Objective Value for Various Numbers of Clusters"
   ]
  },
  {
   "cell_type": "code",
   "execution_count": 41,
   "metadata": {},
   "outputs": [
    {
     "data": {
      "image/png": "[encoded data removed]",
      "text/plain": [
       "<Figure size 432x288 with 1 Axes>"
      ]
     },
     "metadata": {
      "needs_background": "light"
     },
     "output_type": "display_data"
    }
   ],
   "source": [
    "plot_kmeans(X_PCA)"
   ]
  },
  {
   "cell_type": "markdown",
   "metadata": {},
   "source": [
    "### Visualize Projected Clusters"
   ]
  },
  {
   "cell_type": "code",
   "execution_count": 42,
   "metadata": {},
   "outputs": [],
   "source": [
    "NUM_CLUSTERS = 4"
   ]
  },
  {
   "cell_type": "code",
   "execution_count": 43,
   "metadata": {},
   "outputs": [
    {
     "name": "stdout",
     "output_type": "stream",
     "text": [
      "Centroids: \n",
      "\n",
      "[[ 0.91819847  1.08667092 -0.22818324]\n",
      " [ 8.76415758 -1.13325526  0.88930816]\n",
      " [-2.27260993 -0.28959573  0.09726853]\n",
      " [ 4.23340031 -0.4468004  -0.19560563]]\n",
      "\n",
      "Cluster 0 contains 115 samples\n",
      "Cluster 1 contains 18 samples\n",
      "Cluster 2 contains 250 samples\n",
      "Cluster 3 contains 72 samples\n",
      "\n"
     ]
    },
    {
     "data": {
      "image/png": "[encoded data removed]",
      "text/plain": [
       "<Figure size 1080x864 with 1 Axes>"
      ]
     },
     "metadata": {
      "needs_background": "light"
     },
     "output_type": "display_data"
    }
   ],
   "source": [
    "plt.rcParams['figure.figsize'] = [15, 12]\n",
    "kmeans_pca_model = plot_clusters(X_PCA, NUM_CLUSTERS, y_train, mark_dependent_vars=True)"
   ]
  },
  {
   "cell_type": "code",
   "execution_count": null,
   "metadata": {},
   "outputs": [],
   "source": []
  },
  {
   "cell_type": "code",
   "execution_count": null,
   "metadata": {},
   "outputs": [],
   "source": []
  },
  {
   "cell_type": "code",
   "execution_count": null,
   "metadata": {},
   "outputs": [],
   "source": []
  }
 ],
 "metadata": {
  "kernelspec": {
   "display_name": "Python 3",
   "language": "python",
   "name": "python3"
  },
  "language_info": {
   "codemirror_mode": {
    "name": "ipython",
    "version": 3
   },
   "file_extension": ".py",
   "mimetype": "text/x-python",
   "name": "python",
   "nbconvert_exporter": "python",
   "pygments_lexer": "ipython3",
   "version": "3.6.8"
  }
 },
 "nbformat": 4,
 "nbformat_minor": 2
}
